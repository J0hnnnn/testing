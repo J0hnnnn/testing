{
  "metadata": {
    "name": ""
  },
  "nbformat": 3,
  "nbformat_minor": 0,
  "worksheets": [
    {
      "cells": [
        {
          "cell_type": "heading",
          "level": 1,
          "metadata": {},
          "source": [
            "IPython's Rich Display System"
          ]
        },
        {
          "cell_type": "markdown",
          "metadata": {},
          "source": [
            "In Python, objects can declare their textual representation using the `__repr__` method.  IPython expands on this idea and allows objects to declare other, richer representations including:\n",
            "\n",
            "* HTML\n",
            "* JSON\n",
            "* PNG\n",
            "* JPEG\n",
            "* SVG\n",
            "* LaTeX\n",
            "\n",
            "A single object can declare some or all of these representations; all are handled by IPython's *display system*. This Notebook shows how you can use this display system to incorporate a broad range of content into your Notebooks."
          ]
        },
        {
          "cell_type": "code",
          "collapsed": false,
          "input": [
            "%%latex\n",
            "\\begin{aligned}\n",
            "\\nabla \\times \\vec{\\mathbf{B}} -\\, \\frac1c\\, \\frac{\\partial\\vec{\\mathbf{E}}}{\\partial t} & = \\frac{4\\pi}{c}\\vec{\\mathbf{j}} \\\\\n",
            "\\nabla \\cdot \\vec{\\mathbf{E}} & = 4 \\pi \\rho \\\\\n",
            "\\nabla \\times \\vec{\\mathbf{E}}\\, +\\, \\frac1c\\, \\frac{\\partial\\vec{\\mathbf{B}}}{\\partial t} & = \\vec{\\mathbf{0}} \\\\\n",
            "\\nabla \\cdot \\vec{\\mathbf{B}} & = 0\n",
            "\\end{aligned}"
          ],
          "language": "python",
          "metadata": {},
          "outputs": [
            {
              "latex": [
                "\\begin{aligned}\n",
                "\\nabla \\times \\vec{\\mathbf{B}} -\\, \\frac1c\\, \\frac{\\partial\\vec{\\mathbf{E}}}{\\partial t} & = \\frac{4\\pi}{c}\\vec{\\mathbf{j}} \\\\\n",
                "\\nabla \\cdot \\vec{\\mathbf{E}} & = 4 \\pi \\rho \\\\\n",
                "\\nabla \\times \\vec{\\mathbf{E}}\\, +\\, \\frac1c\\, \\frac{\\partial\\vec{\\mathbf{B}}}{\\partial t} & = \\vec{\\mathbf{0}} \\\\\n",
                "\\nabla \\cdot \\vec{\\mathbf{B}} & = 0\n",
                "\\end{aligned}"
              ],
              "output_type": "display_data",
              "text": [
                "<IPython.core.display.Latex at 0x10a617c90>"
              ]
            }
          ],
          "prompt_number": 12
        }
      ],
      "metadata": {}
    }
  ]
}
