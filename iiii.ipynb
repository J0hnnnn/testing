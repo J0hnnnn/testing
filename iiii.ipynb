{
  "metadata": {
    "name": ""
  },
  "nbformat": 3,
  "nbformat_minor": 0,
  "worksheets": [
    {
      "cells": [
        {
          "cell_type": "heading",
          "level": 1,
          "metadata": {},
          "source": [
            "IPython's Rich Display System"
          ]
        },
        {
          "cell_type": "markdown",
          "metadata": {},
          "source": [
            "In Python, objects can declare their textual representation using the `__repr__` method.  IPython expands on this idea and allows objects to declare other, richer representations including:\n",
            "\n",
            "* HTML\n",
            "* JSON\n",
            "* PNG\n",
            "* JPEG\n",
            "* SVG\n",
            "* LaTeX\n",
            "\n",
            "A single object can declare some or all of these representations; all are handled by IPython's *display system*. This Notebook shows how you can use this display system to incorporate a broad range of content into your Notebooks."
          ]
        },
        {
          "cell_type": "code",
          "collapsed": false,
          "input": [
            "sample"
          ],
          "language": "python",
          "metadata": {},
          "outputs": [
            {
              "html": [
                "<h1>asd"
              ],
              "output_type": "display_data",
              "text": [
                "<IPython.core.display.Latex at 0x10a617c90>"
              ]
            }
          ],
          "prompt_number": 12
        }
      ],
      "metadata": {}
    }
  ]
}
